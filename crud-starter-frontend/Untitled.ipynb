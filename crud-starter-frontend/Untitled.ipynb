{
 "cells": [
  {
   "cell_type": "code",
   "execution_count": 1,
   "metadata": {},
   "outputs": [
    {
     "ename": "SyntaxError",
     "evalue": "Unexpected end of input",
     "output_type": "error",
     "traceback": [
      "evalmachine.<anonymous>:1",
      "http://news.google.com/news?output=rss",
      "                                      ",
      "",
      "SyntaxError: Unexpected end of input",
      "    at new Script (vm.js:88:7)",
      "    at createScript (vm.js:263:10)",
      "    at Object.runInThisContext (vm.js:311:10)",
      "    at run ([eval]:1054:15)",
      "    at onRunRequest ([eval]:888:18)",
      "    at onMessage ([eval]:848:13)",
      "    at process.emit (events.js:310:20)",
      "    at emit (internal/child_process.js:876:12)",
      "    at processTicksAndRejections (internal/process/task_queues.js:85:21)"
     ]
    }
   ],
   "source": [
    "http://news.google.com/news?output=rss"
   ]
  },
  {
   "cell_type": "code",
   "execution_count": 12,
   "metadata": {},
   "outputs": [
    {
     "ename": "Error",
     "evalue": "Cannot find module 'xml2js'\nRequire stack:\n- /Users/mikeck/Desktop/postgres/crud-starter-frontend/[eval]",
     "output_type": "error",
     "traceback": [
      "internal/modules/cjs/loader.js:983",
      "  throw err;",
      "  ^",
      "",
      "Error: Cannot find module 'xml2js'",
      "Require stack:",
      "- /Users/mikeck/Desktop/postgres/crud-starter-frontend/[eval]",
      "    at Function.Module._resolveFilename (internal/modules/cjs/loader.js:980:15)",
      "    at Function.Module._load (internal/modules/cjs/loader.js:862:27)",
      "    at Module.require (internal/modules/cjs/loader.js:1042:19)",
      "    at require (internal/modules/cjs/helpers.js:77:18)",
      "    at evalmachine.<anonymous>:1:19",
      "    at Script.runInThisContext (vm.js:120:20)",
      "    at Object.runInThisContext (vm.js:311:38)",
      "    at run ([eval]:1054:15)",
      "    at onRunRequest ([eval]:888:18)",
      "    at onMessage ([eval]:848:13)"
     ]
    }
   ],
   "source": [
    "var parseString = require('xml2js').parseString;\n",
    "var xml = \"<root>Hello xml2js!</root>\"\n",
    "parseString(xml, function (err, result) {\n",
    "    console.dir(result);\n",
    "});"
   ]
  },
  {
   "cell_type": "code",
   "execution_count": 4,
   "metadata": {},
   "outputs": [
    {
     "ename": "SyntaxError",
     "evalue": "Cannot use import statement outside a module",
     "output_type": "error",
     "traceback": [
      "evalmachine.<anonymous>:1",
      "import React, { Component } from 'react'",
      "^^^^^^",
      "",
      "SyntaxError: Cannot use import statement outside a module",
      "    at new Script (vm.js:88:7)",
      "    at createScript (vm.js:263:10)",
      "    at Object.runInThisContext (vm.js:311:10)",
      "    at run ([eval]:1054:15)",
      "    at onRunRequest ([eval]:888:18)",
      "    at onMessage ([eval]:848:13)",
      "    at process.emit (events.js:310:20)",
      "    at emit (internal/child_process.js:876:12)",
      "    at processTicksAndRejections (internal/process/task_queues.js:85:21)"
     ]
    }
   ],
   "source": [
    "import React, { Component } from 'react'\n"
   ]
  },
  {
   "cell_type": "code",
   "execution_count": 5,
   "metadata": {},
   "outputs": [
    {
     "ename": "ReferenceError",
     "evalue": "fetch is not defined",
     "output_type": "error",
     "traceback": [
      "evalmachine.<anonymous>:1",
      "fetch('https://news.google.com/rss?hl=en-US&gl=US&ceid=US:en')",
      "^",
      "",
      "ReferenceError: fetch is not defined",
      "    at evalmachine.<anonymous>:1:1",
      "    at Script.runInThisContext (vm.js:120:20)",
      "    at Object.runInThisContext (vm.js:311:38)",
      "    at run ([eval]:1054:15)",
      "    at onRunRequest ([eval]:888:18)",
      "    at onMessage ([eval]:848:13)",
      "    at process.emit (events.js:310:20)",
      "    at emit (internal/child_process.js:876:12)",
      "    at processTicksAndRejections (internal/process/task_queues.js:85:21)"
     ]
    }
   ],
   "source": [
    "fetch('https://news.google.com/rss?hl=en-US&gl=US&ceid=US:en')\n",
    "    .then(response => response.json())\n",
    "    .then(items => this.setState({ items }))\n",
    "    .catch(err => console.log(err))\n"
   ]
  },
  {
   "cell_type": "code",
   "execution_count": 29,
   "metadata": {},
   "outputs": [
    {
     "data": {
      "text/plain": [
       "1620864145000"
      ]
     },
     "execution_count": 29,
     "metadata": {},
     "output_type": "execute_result"
    }
   ],
   "source": [
    "new Date(\"Wed, 12 May 2021 20:02:25 -0400\").getTime();"
   ]
  },
  {
   "cell_type": "code",
   "execution_count": 32,
   "metadata": {},
   "outputs": [
    {
     "data": {
      "text/plain": [
       "'Thu, 13 May 2021 00:02:25 GMT'"
      ]
     },
     "execution_count": 32,
     "metadata": {},
     "output_type": "execute_result"
    }
   ],
   "source": [
    "new Date(1620864145000).toGMTString()"
   ]
  },
  {
   "cell_type": "code",
   "execution_count": 25,
   "metadata": {},
   "outputs": [
    {
     "data": {
      "text/plain": [
       "18446744073709552000"
      ]
     },
     "execution_count": 25,
     "metadata": {},
     "output_type": "execute_result"
    }
   ],
   "source": [
    "2**64"
   ]
  },
  {
   "cell_type": "code",
   "execution_count": 21,
   "metadata": {},
   "outputs": [
    {
     "ename": "ReferenceError",
     "evalue": "int is not defined",
     "output_type": "error",
     "traceback": [
      "evalmachine.<anonymous>:1",
      "int(1620861784000)",
      "^",
      "",
      "ReferenceError: int is not defined",
      "    at evalmachine.<anonymous>:1:1",
      "    at Script.runInThisContext (vm.js:120:20)",
      "    at Object.runInThisContext (vm.js:311:38)",
      "    at run ([eval]:1054:15)",
      "    at onRunRequest ([eval]:888:18)",
      "    at onMessage ([eval]:848:13)",
      "    at process.emit (events.js:310:20)",
      "    at emit (internal/child_process.js:876:12)",
      "    at processTicksAndRejections (internal/process/task_queues.js:85:21)"
     ]
    }
   ],
   "source": [
    "1620861784000"
   ]
  },
  {
   "cell_type": "markdown",
   "metadata": {},
   "source": [
    "## "
   ]
  }
 ],
 "metadata": {
  "kernelspec": {
   "display_name": "Javascript (Node.js)",
   "language": "javascript",
   "name": "javascript"
  },
  "language_info": {
   "file_extension": ".js",
   "mimetype": "application/javascript",
   "name": "javascript",
   "version": "12.16.2"
  }
 },
 "nbformat": 4,
 "nbformat_minor": 4
}
